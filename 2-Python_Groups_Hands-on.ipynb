{
 "cells": [
  {
   "cell_type": "markdown",
   "metadata": {
    "id": "kZXiW0-J0-2x"
   },
   "source": [
    "# Python_Groups_Hands-on\n"
   ]
  },
  {
   "cell_type": "markdown",
   "metadata": {
    "id": "I05A6_S80-2y"
   },
   "source": [
    "## Project: Library Management System\n",
    "### Description:\n",
    "- Develop a basic Library Management System (LMS) that allows users to manage book records, including adding, updating, deleting, and displaying book information. The system should also provide basic statistical analysis.\n",
    "\n",
    "### System requirements:\n",
    "\n",
    "#### Data Structure Design:\n",
    "\n",
    "  - Define data structures using lists, tuples, dictionaries, and sets to store book information (e.g., book ID, title, author, year, genres).\n",
    "\n",
    "#### Basic Operations:\n",
    "\n",
    "- Implement functions to add, update, delete, and display book records.\n",
    "- Ensure proper type conversion and validation of inputs.\n",
    "\n",
    "#### Statistical Analysis:\n",
    "\n",
    "- Write functions to calculate and display the total number of books, the average publication year, and the most common genre.\n",
    "- Use list comprehensions and built-in functions (sort, len, zip, range) for calculations.\n",
    "\n",
    "#### Advanced Features:\n",
    "\n",
    "- Implement search functionality to find books by title or author using lambda functions.\n",
    "- Provide sorting options for book records based on different criteria (e.g., title, year).\n",
    "\n",
    "\n",
    "#### Exception Handling:\n",
    "\n",
    "- Handle potential errors (e.g., invalid input) using try-except blocks."
   ]
  },
  {
   "cell_type": "markdown",
   "metadata": {
    "id": "rXuH9y0_D76o"
   },
   "source": [
    "#### Q1: Using the following table, create a function to add these books to your library:\n",
    "\n",
    "\n",
    "\n",
    "| Book ID | Title                            | Author               | Year | Genres                              |\n",
    "|---------|----------------------------------|----------------------|------|-------------------------------------|\n",
    "| 1       | Harry Potter and the Sorcerer's Stone | J.K. Rowling         | 1997 | Fantasy, Young Adult                |\n",
    "| 2       | To Kill a Mockingbird             | Harper Lee           | 1960 | Fiction, Classics                   |\n",
    "| 3       | The Great Gatsby                  | F. Scott Fitzgerald  | 1925 | Fiction, Classics                   |\n",
    "| 4       | 1984                              | George Orwell        | 1949 | Fiction, Dystopian                  |\n",
    "| 5       | The Catcher in the Rye            | J.D. Salinger        | 1951 | Fiction, Classics                   |\n",
    "| 6       | Pride and Prejudice               | Jane Austen          | 1813 | Fiction, Romance, Classics          |\n",
    "| 7       | The Hobbit                        | J.R.R. Tolkien       | 1937 | Fantasy, Adventure                  |\n",
    "| 8       | The Hunger Games                  | Suzanne Collins      | 2008 | Science Fiction, Dystopian, Young Adult |\n",
    "| 9       | The Da Vinci Code                 | Dan Brown            | 2003 | Mystery, Thriller                   |\n",
    "| 10      | The Chronicles of Narnia          | C.S. Lewis           | 1950 | Fantasy, Children's Literature      |\n",
    "| 11      | Gone with the Wind                | Margaret Mitchell    | 1936 | Historical Fiction, Romance         |\n",
    "| 12      | Sapiens: A Brief History of Humankind | Yuval Noah Harari   | 2011 | Nonfiction, History, Science        |\n",
    "| 13      | The Road                          | Cormac McCarthy      | 2006 | Fiction, Post-Apocalyptic           |\n",
    "| 14      | The Girl with the Dragon Tattoo   | Stieg Larsson        | 2005 | Mystery, Thriller                   |\n",
    "| 15      | The Alchemist                     | Paulo Coelho         | 1988 | Fiction, Inspirational              |\n"
   ]
  },
  {
   "cell_type": "code",
   "execution_count": 105,
   "metadata": {
    "id": "BzV_B_g20-2z"
   },
   "outputs": [],
   "source": [
    "library = {}  # Define an empty dictionary to store book information\n",
    "\n",
    "# Define a function 'Add_bookinfo' to add book details to the library\n",
    "# Parameters:\n",
    "# - 'id': the unique identifier for the book\n",
    "# - 'info': a list containing book details (e.g., title, author, year, genres)\n",
    "def Add_bookinfo(id, info):\n",
    "    \n",
    "    # Use the 'update' method to add the book information to the 'library' dictionary\n",
    "    # The 'id' serves as the key and 'info' (book details) as the value\n",
    "    library.update({id: info}) \n"
   ]
  },
  {
   "cell_type": "code",
   "execution_count": 92,
   "metadata": {},
   "outputs": [],
   "source": [
    "# Call the function 'Add_bookinfo' to fill the library dictionary with book information\n",
    "# Each book is represented as a dictionary with keys: 'title', 'author', 'year', and 'genres'\n",
    "\n",
    "# Adding the first book: \"Harry Potter and the Sorcerer's Stone\"\n",
    "Add_bookinfo(1, {\n",
    "    'title': \"Harry Potter and the Sorcerer's Stone\",\n",
    "    'author': 'J.K. Rowling',\n",
    "    'year': 1997,\n",
    "    'genres': ['Fantasy', 'Young Adult']  # List of genres for the book\n",
    "})\n",
    "\n",
    "# Adding the second book: \"To Kill a Mockingbird\"\n",
    "Add_bookinfo(2, {\n",
    "    'title': 'To Kill a Mockingbird',\n",
    "    'author': 'Harper Lee',\n",
    "    'year': 1960,\n",
    "    'genres': ['Fiction', 'Classics']  # List of genres for the book\n",
    "})\n",
    "\n",
    "# Adding the third book: \"The Great Gatsby\"\n",
    "Add_bookinfo(3, {\n",
    "    'title': 'The Great Gatsby',\n",
    "    'author': 'F. Scott Fitzgerald',\n",
    "    'year': 1925,\n",
    "    'genres': ['Fiction', 'Classics']  # List of genres for the book\n",
    "})\n",
    "\n",
    "# Adding the fourth book: \"1984\"\n",
    "Add_bookinfo(4, {\n",
    "    'title': '1984',\n",
    "    'author': 'George Orwell',\n",
    "    'year': 1949,\n",
    "    'genres': ['Fiction', 'Dystopian']  # List of genres for the book\n",
    "})\n",
    "\n",
    "# Adding the fifth book: \"The Catcher in the Rye\"\n",
    "Add_bookinfo(5, {\n",
    "    'title': 'The Catcher in the Rye',\n",
    "    'author': 'J.D. Salinger',\n",
    "    'year': 1951,\n",
    "    'genres': ['Fiction', 'Classics']  # List of genres for the book\n",
    "})\n",
    "\n",
    "# Adding the sixth book: \"Pride and Prejudice\"\n",
    "Add_bookinfo(6, {\n",
    "    'title': 'Pride and Prejudice',\n",
    "    'author': 'Jane Austen',\n",
    "    'year': 1813,\n",
    "    'genres': ['Fiction', 'Romance', 'Classics']  # List of genres for the book\n",
    "})\n",
    "\n",
    "# Adding the seventh book: \"The Hobbit\"\n",
    "Add_bookinfo(7, {\n",
    "    'title': 'The Hobbit',\n",
    "    'author': 'J.R.R. Tolkien',\n",
    "    'year': 1937,\n",
    "    'genres': ['Fantasy', 'Adventure']  # List of genres for the book\n",
    "})\n",
    "\n",
    "# Adding the eighth book: \"The Hunger Games\"\n",
    "Add_bookinfo(8, {\n",
    "    'title': 'The Hunger Games',\n",
    "    'author': 'Suzanne Collins',\n",
    "    'year': 2008,\n",
    "    'genres': ['Science Fiction', 'Dystopian', 'Young Adult']  # List of genres for the book\n",
    "})\n",
    "\n",
    "# Adding the ninth book: \"The Da Vinci Code\"\n",
    "Add_bookinfo(9, {\n",
    "    'title': 'The Da Vinci Code',\n",
    "    'author': 'Dan Brown',\n",
    "    'year': 2003,\n",
    "    'genres': ['Mystery', 'Thriller']  # List of genres for the book\n",
    "})\n",
    "\n",
    "# Adding the tenth book: \"The Chronicles of Narnia\"\n",
    "Add_bookinfo(10, {\n",
    "    'title': 'The Chronicles of Narnia',\n",
    "    'author': 'C.S. Lewis',\n",
    "    'year': 1950,\n",
    "    'genres': ['Fantasy', \"Children's Literature\"]  # List of genres for the book\n",
    "})\n",
    "\n",
    "# Adding the eleventh book: \"Gone with the Wind\"\n",
    "Add_bookinfo(11, {\n",
    "    'title': 'Gone with the Wind',\n",
    "    'author': 'Margaret Mitchell',\n",
    "    'year': 1936,\n",
    "    'genres': ['Historical Fiction', 'Romance']  # List of genres for the book\n",
    "})\n",
    "\n",
    "# Adding the twelfth book: \"Sapiens: A Brief History of Humankind\"\n",
    "Add_bookinfo(12, {\n",
    "    'title': 'Sapiens: A Brief History of Humankind',\n",
    "    'author': 'Yuval Noah Harari',\n",
    "    'year': 2011,\n",
    "    'genres': ['Nonfiction', 'History', 'Science']  # List of genres for the book\n",
    "})\n",
    "\n",
    "# Adding the thirteenth book: \"The Road\"\n",
    "Add_bookinfo(13, {\n",
    "    'title': 'The Road',\n",
    "    'author': 'Cormac McCarthy',\n",
    "    'year': 2006,\n",
    "    'genres': ['Fiction', 'Post-Apocalyptic']  # List of genres for the book\n",
    "})\n",
    "\n",
    "# Adding the fourteenth book: \"The Girl with the Dragon Tattoo\"\n",
    "Add_bookinfo(14, {\n",
    "    'title': 'The Girl with the Dragon Tattoo',\n",
    "    'author': 'Stieg Larsson',\n",
    "    'year': 2005,\n",
    "    'genres': ['Mystery', 'Thriller']  # List of genres for the book\n",
    "})\n",
    "\n",
    "# Adding the fifteenth book: \"The Alchemist\"\n",
    "Add_bookinfo(15, {\n",
    "    'title': 'The Alchemist',\n",
    "    'author': 'Paulo Coelho',\n",
    "    'year': 1988,\n",
    "    'genres': ['Fiction', 'Inspirational']  # List of genres for the book\n",
    "})\n"
   ]
  },
  {
   "cell_type": "code",
   "execution_count": 94,
   "metadata": {},
   "outputs": [
    {
     "name": "stdout",
     "output_type": "stream",
     "text": [
      "1 {'title': \"Harry Potter and the Sorcerer's Stone\", 'author': 'J.K. Rowling', 'year': 1997, 'genres': ['Fantasy', 'Young Adult']}\n",
      "2 {'title': 'To Kill a Mockingbird', 'author': 'Harper Lee', 'year': 1960, 'genres': ['Fiction', 'Classics']}\n",
      "3 {'title': 'The Great Gatsby', 'author': 'F. Scott Fitzgerald', 'year': 1925, 'genres': ['Fiction', 'Classics']}\n",
      "4 {'title': '1984', 'author': 'George Orwell', 'year': 1949, 'genres': ['Fiction', 'Dystopian']}\n",
      "5 {'title': 'The Catcher in the Rye', 'author': 'J.D. Salinger', 'year': 1951, 'genres': ['Fiction', 'Classics']}\n",
      "6 {'title': 'Pride and Prejudice', 'author': 'Jane Austen', 'year': 1813, 'genres': ['Fiction', 'Romance', 'Classics']}\n",
      "7 {'title': 'The Hobbit', 'author': 'J.R.R. Tolkien', 'year': 1937, 'genres': ['Fantasy', 'Adventure']}\n",
      "8 {'title': 'The Hunger Games', 'author': 'Suzanne Collins', 'year': 2008, 'genres': ['Science Fiction', 'Dystopian', 'Young Adult']}\n",
      "9 {'title': 'The Da Vinci Code', 'author': 'Dan Brown', 'year': 2003, 'genres': ['Mystery', 'Thriller']}\n",
      "10 {'title': 'The Chronicles of Narnia', 'author': 'C.S. Lewis', 'year': 1950, 'genres': ['Fantasy', \"Children's Literature\"]}\n",
      "11 {'title': 'Gone with the Wind', 'author': 'Margaret Mitchell', 'year': 1936, 'genres': ['Historical Fiction', 'Romance']}\n",
      "12 {'title': 'Sapiens: A Brief History of Humankind', 'author': 'Yuval Noah Harari', 'year': 2011, 'genres': ['Nonfiction', 'History', 'Science']}\n",
      "13 {'title': 'The Road', 'author': 'Cormac McCarthy', 'year': 2006, 'genres': ['Fiction', 'Post-Apocalyptic']}\n",
      "14 {'title': 'The Girl with the Dragon Tattoo', 'author': 'Stieg Larsson', 'year': 2005, 'genres': ['Mystery', 'Thriller']}\n",
      "15 {'title': 'The Alchemist', 'author': 'Paulo Coelho', 'year': 1988, 'genres': ['Fiction', 'Inspirational']}\n"
     ]
    }
   ],
   "source": [
    "# Iterate over the library dictionary to access each book's ID and its associated information\n",
    "for k, y in library.items():  \n",
    "    # Print the book ID (key) and its corresponding information (value)\n",
    "    print(k, y)\n"
   ]
  },
  {
   "cell_type": "markdown",
   "metadata": {
    "id": "kR5bvgOsF3oJ"
   },
   "source": [
    "#### Q2: Create a function that updates books exsisted in your library and test it.\n",
    "- **Note**: If the user entered wrong book ID it should print \"Book with ID 'num' does not exist."
   ]
  },
  {
   "cell_type": "code",
   "execution_count": 97,
   "metadata": {
    "id": "U60cFkbUUYmj"
   },
   "outputs": [],
   "source": [
    "# Define a function to update book information in the library based on the book ID\n",
    "def update_bookinfo(id, lst):\n",
    "    # Check if the provided book ID exists in the library dictionary\n",
    "    if id in library.keys():  \n",
    "        # Update the book information for the given ID with the new list of information\n",
    "        library.update({id: lst})  \n",
    "        print('The book info has been updated')  # Notify that the book information was successfully updated\n",
    "    else:\n",
    "        print('The ID doesn\\'t exist')  # Notify that the provided book ID does not exist in the library\n"
   ]
  },
  {
   "cell_type": "code",
   "execution_count": 101,
   "metadata": {},
   "outputs": [
    {
     "name": "stdin",
     "output_type": "stream",
     "text": [
      "Enter ID:  2\n",
      "Book Name:  hgf\n",
      "Author Name:  jjj\n",
      "Year:  5432\n",
      "Enter number of genres:  8\n",
      "Enter genres please:  ss,ss,ss,ss,ss,ss,ss,ss\n",
      "Enter genres please:  w\n",
      "Enter genres please:  s\n",
      "Enter genres please:  s\n",
      "Enter genres please:  s\n",
      "Enter genres please:  s\n",
      "Enter genres please:  s\n",
      "Enter genres please:  s\n"
     ]
    },
    {
     "name": "stdout",
     "output_type": "stream",
     "text": [
      "The book info has been updated\n"
     ]
    }
   ],
   "source": [
    "# Prompt the user to enter the book ID and convert it to an integer\n",
    "id = int(input('Enter ID: '))  # Take data of book from user\n",
    "\n",
    "# Prompt the user to enter the book name\n",
    "name = input('Book Name: ')  \n",
    "\n",
    "# Prompt the user to enter the author's name\n",
    "author = input('Author Name: ')  \n",
    "\n",
    "# Prompt the user to enter the publication year and convert it to an integer\n",
    "year = int(input('Year: '))  \n",
    "\n",
    "# Prompt the user to enter the number of genres for the book\n",
    "genres = int(input('Enter number of genres: '))  \n",
    "\n",
    "lst = []  # Initialize an empty list to store genres\n",
    "\n",
    "# Loop through the range of the number of genres specified by the user\n",
    "for i in range(genres):\n",
    "    # Prompt the user to enter each genre and append it to the list\n",
    "    lst.append(input('Enter genres please: '))  # Add genres\n",
    "\n",
    "# Call the update_bookinfo function to update the book information with the new entries\n",
    "update_bookinfo(id, {'title': name, 'author': author, 'year': year, 'genres': lst})  # Change the book info with the new entry\n"
   ]
  },
  {
   "cell_type": "code",
   "execution_count": 103,
   "metadata": {},
   "outputs": [
    {
     "name": "stdout",
     "output_type": "stream",
     "text": [
      "1 {'title': \"Harry Potter and the Sorcerer's Stone\", 'author': 'J.K. Rowling', 'year': 1997, 'genres': ['Fantasy', 'Young Adult']}\n",
      "2 {'title': 'hgf', 'author': 'jjj', 'year': 5432, 'genres': ['ss,ss,ss,ss,ss,ss,ss,ss', 'w', 's', 's', 's', 's', 's', 's']}\n",
      "3 {'title': 'The Great Gatsby', 'author': 'F. Scott Fitzgerald', 'year': 1925, 'genres': ['Fiction', 'Classics']}\n",
      "4 {'title': '1984', 'author': 'George Orwell', 'year': 1949, 'genres': ['Fiction', 'Dystopian']}\n",
      "5 {'title': 'The Catcher in the Rye', 'author': 'J.D. Salinger', 'year': 1951, 'genres': ['Fiction', 'Classics']}\n",
      "6 {'title': 'Pride and Prejudice', 'author': 'Jane Austen', 'year': 1813, 'genres': ['Fiction', 'Romance', 'Classics']}\n",
      "7 {'title': 'The Hobbit', 'author': 'J.R.R. Tolkien', 'year': 1937, 'genres': ['Fantasy', 'Adventure']}\n",
      "8 {'title': 'The Hunger Games', 'author': 'Suzanne Collins', 'year': 2008, 'genres': ['Science Fiction', 'Dystopian', 'Young Adult']}\n",
      "9 {'title': 'The Da Vinci Code', 'author': 'Dan Brown', 'year': 2003, 'genres': ['Mystery', 'Thriller']}\n",
      "10 {'title': 'The Chronicles of Narnia', 'author': 'C.S. Lewis', 'year': 1950, 'genres': ['Fantasy', \"Children's Literature\"]}\n",
      "11 {'title': 'Gone with the Wind', 'author': 'Margaret Mitchell', 'year': 1936, 'genres': ['Historical Fiction', 'Romance']}\n",
      "12 {'title': 'Sapiens: A Brief History of Humankind', 'author': 'Yuval Noah Harari', 'year': 2011, 'genres': ['Nonfiction', 'History', 'Science']}\n",
      "13 {'title': 'The Road', 'author': 'Cormac McCarthy', 'year': 2006, 'genres': ['Fiction', 'Post-Apocalyptic']}\n",
      "14 {'title': 'The Girl with the Dragon Tattoo', 'author': 'Stieg Larsson', 'year': 2005, 'genres': ['Mystery', 'Thriller']}\n",
      "15 {'title': 'The Alchemist', 'author': 'Paulo Coelho', 'year': 1988, 'genres': ['Fiction', 'Inspirational']}\n"
     ]
    }
   ],
   "source": [
    "for k,y in library.items():\n",
    "  print(k,y) #check update "
   ]
  },
  {
   "cell_type": "markdown",
   "metadata": {
    "id": "ME3j_m-eLhyH"
   },
   "source": [
    "#### Q3: Create a function to delete books from your library and test it."
   ]
  },
  {
   "cell_type": "code",
   "execution_count": 81,
   "metadata": {
    "id": "JlGIx-gJUadK"
   },
   "outputs": [],
   "source": [
    "# Define a function to delete a book from the library using its ID\n",
    "def delete_books(id):\n",
    "    # Check if the provided book ID exists in the library dictionary\n",
    "    if id in library.keys():  \n",
    "        # Remove the book entry associated with the given ID from the library\n",
    "        library.pop(id)  \n",
    "        print('The book has been deleted')  # Notify the user that the book was successfully deleted\n",
    "    else:\n",
    "        print('Key doesn\\'t exist')  # Notify the user that the provided book ID does not exist in the library\n"
   ]
  },
  {
   "cell_type": "code",
   "execution_count": null,
   "metadata": {},
   "outputs": [],
   "source": [
    "# Prompt the user to enter the number of books they want to remove\n",
    "userinput = int(input('Enter the number of books you want to remove: '))  # Take the number of books to delete\n",
    "\n",
    "# Loop over the range of the user-defined number of books to be deleted\n",
    "for i in range(userinput):\n",
    "    # Prompt the user to enter the ID of the book they wish to delete\n",
    "    id = int(input('Enter ID of book: '))\n",
    "    \n",
    "    # Call the function to delete the book with the specified ID\n",
    "    delete_books(id)  # Call the function to remove the book from the library\n"
   ]
  },
  {
   "cell_type": "code",
   "execution_count": 39,
   "metadata": {},
   "outputs": [
    {
     "name": "stdout",
     "output_type": "stream",
     "text": [
      "2 {'title': 'To Kill a Mockingbird', 'author': 'Harper Lee', 'year': 1960, 'genres': ['Fiction', 'Classics']}\n",
      "3 {'title': 'The Great Gatsby', 'author': 'F. Scott Fitzgerald', 'year': 1925, 'genres': ['Fiction', 'Classics']}\n",
      "4 {'title': '1984', 'author': 'George Orwell', 'year': 1949, 'genres': [' Fiction', 'Dystopian']}\n",
      "5 {'title': 'The Catcher in the Rye', 'author': 'J.D. Salinger', 'year': 1951, 'genres': ['Fiction', 'Classics']}\n",
      "6 {'title': 'Pride and Prejudice', 'author': 'Jane Austen', 'year': 1813, 'genres': ['Fiction', 'Romance', 'Classics']}\n",
      "7 {'title': 'The Hobbit', 'author': 'J.R.R. Tolkien', 'year': 1937, 'genres': ['Fantasy', 'Adventure']}\n",
      "8 {'title': 'The Hunger Games', 'author': 'Suzanne Collins', 'year': 2008, 'genres': ['Science Fiction', 'Dystopian', 'Young Adult']}\n",
      "9 {'title': 'The Da Vinci Code', 'author': 'Dan Brown', 'year': 2003, 'genres': ['Mystery, Thriller']}\n",
      "10 {'title': 'The Chronicles of Narnia', 'author': 'C.S. Lewis', 'year': 1950, 'genres': ['Fantasy', \"Children's Literature\"]}\n",
      "11 {'title': 'Gone with the Wind', 'author': 'Margaret Mitchell', 'year': 1936, 'genres': ['Historical Fiction', 'Romance']}\n",
      "12 {'title': 'Sapiens: A Brief History of Humankind', 'author': 'Yuval Noah Harari', 'year': 2011, 'genres': ['Nonfiction', 'History', 'Science']}\n",
      "13 {'title': 'The Road', 'author': 'Cormac McCarthy', 'year': 2006, 'genres': ['Fiction', 'Post-Apocalyptic']}\n",
      "14 {'title': 'The Girl with the Dragon Tattoo', 'author': 'Stieg Larsson', 'year': 2005, 'genres': ['Mystery', 'Thriller']}\n",
      "15 {'title': 'The Alchemist', 'author': 'Paulo Coelho', 'year': 1988, 'genres': ['Fiction', 'Inspirational']}\n"
     ]
    }
   ],
   "source": [
    "for k,y in library.items():\n",
    "  print(k,y) #print the whole dict to check deletion "
   ]
  },
  {
   "cell_type": "markdown",
   "metadata": {
    "id": "MIamnChwNgFr"
   },
   "source": [
    "#### Q4: Create a function that displays books information from your library and test it."
   ]
  },
  {
   "cell_type": "code",
   "execution_count": 87,
   "metadata": {
    "id": "xFNIK3YvUbz5"
   },
   "outputs": [
    {
     "name": "stdout",
     "output_type": "stream",
     "text": [
      "Book Title: Harry Potter and the Sorcerer's Stone Author: J.K. Rowling Year: 1997 Genres: ['Fantasy', 'Young Adult']\n",
      "\n",
      "Book Title: To Kill a Mockingbird Author: Harper Lee Year: 1960 Genres: ['Fiction', 'Classics']\n",
      "\n",
      "Book Title: The Great Gatsby Author: F. Scott Fitzgerald Year: 1925 Genres: ['Fiction', 'Classics']\n",
      "\n",
      "Book Title: 1984 Author: George Orwell Year: 1949 Genres: ['Fiction', 'Dystopian']\n",
      "\n",
      "Book Title: The Catcher in the Rye Author: J.D. Salinger Year: 1951 Genres: ['Fiction', 'Classics']\n",
      "\n",
      "Book Title: Pride and Prejudice Author: Jane Austen Year: 1813 Genres: ['Fiction', 'Romance', 'Classics']\n",
      "\n",
      "Book Title: The Hobbit Author: J.R.R. Tolkien Year: 1937 Genres: ['Fantasy', 'Adventure']\n",
      "\n",
      "Book Title: The Hunger Games Author: Suzanne Collins Year: 2008 Genres: ['Science Fiction', 'Dystopian', 'Young Adult']\n",
      "\n",
      "Book Title: The Da Vinci Code Author: Dan Brown Year: 2003 Genres: ['Mystery', 'Thriller']\n",
      "\n",
      "Book Title: The Chronicles of Narnia Author: C.S. Lewis Year: 1950 Genres: ['Fantasy', \"Children's Literature\"]\n",
      "\n",
      "Book Title: Gone with the Wind Author: Margaret Mitchell Year: 1936 Genres: ['Historical Fiction', 'Romance']\n",
      "\n",
      "Book Title: Sapiens: A Brief History of Humankind Author: Yuval Noah Harari Year: 2011 Genres: ['Nonfiction', 'History', 'Science']\n",
      "\n",
      "Book Title: The Road Author: Cormac McCarthy Year: 2006 Genres: ['Fiction', 'Post-Apocalyptic']\n",
      "\n",
      "Book Title: The Girl with the Dragon Tattoo Author: Stieg Larsson Year: 2005 Genres: ['Mystery', 'Thriller']\n",
      "\n",
      "Book Title: The Alchemist Author: Paulo Coelho Year: 1988 Genres: ['Fiction', 'Inspirational']\n",
      "\n"
     ]
    }
   ],
   "source": [
    "# Define a function to display the details of all books in the library\n",
    "def display():\n",
    "    # Loop over the values (book details) in the library dictionary\n",
    "    for v in library.values():\n",
    "        # Print the details of each book, including title, author, year, and genres\n",
    "        print('Book Title: {} Author: {} Year: {} Genres: {}'.format(v['title'], v['author'], v['year'], v['genres']))\n",
    "        print()  # Print a blank line for better readability between books\n",
    "\n",
    "# Call the function to execute the display of book details\n",
    "display()  # Calling the function\n"
   ]
  },
  {
   "cell_type": "markdown",
   "metadata": {
    "id": "OvfdKdBqNt22"
   },
   "source": [
    "#### Q5: Create functions to do the following: calculates and display the total number of books, the average publication year, and the most common genre. and test it."
   ]
  },
  {
   "cell_type": "code",
   "execution_count": 85,
   "metadata": {
    "id": "mWg5eHIWUcsU"
   },
   "outputs": [
    {
     "name": "stdout",
     "output_type": "stream",
     "text": [
      "Total number of books in library: 15\n"
     ]
    }
   ],
   "source": [
    "# Define a function to calculate and print the total number of books in the library\n",
    "def total_books():\n",
    "    sum = 0  # Initialize a variable to keep track of the total number of books\n",
    "\n",
    "    # Iterate over each book ID in the library's keys\n",
    "    for k in library.keys():\n",
    "        sum += 1  # Increment the sum for each book found\n",
    "\n",
    "    # Print the total number of books in the library\n",
    "    print('Total number of books in library:', sum)\n",
    "\n",
    "# Call the function to execute the total book count calculation\n",
    "total_books()  # Calling the function\n"
   ]
  },
  {
   "cell_type": "code",
   "execution_count": 83,
   "metadata": {},
   "outputs": [
    {
     "name": "stdout",
     "output_type": "stream",
     "text": [
      "The average publication year is 1962\n"
     ]
    }
   ],
   "source": [
    "# Define a function to calculate and print the average publication year of books in the library\n",
    "def avg_publication_year():\n",
    "    count = 0  # Initialize a counter to track the number of books\n",
    "    sum = 0    # Initialize a variable to accumulate the sum of publication years\n",
    "\n",
    "    # Iterate over each book's information in the library\n",
    "    for v in library.values():\n",
    "        sum += v['year']  # Add the publication year of the current book to the sum\n",
    "        count += 1        # Increment the counter for each book processed\n",
    "\n",
    "    # Calculate the average publication year\n",
    "    div = sum / count if count > 0 else 0  # Prevent division by zero by checking if count is greater than zero\n",
    "    print('The average publication year is', int(div))  # Print the average year, converting it to an integer for better readability\n",
    "\n",
    "# Call the function to execute the average calculation\n",
    "avg_publication_year()  \n"
   ]
  },
  {
   "cell_type": "code",
   "execution_count": 49,
   "metadata": {},
   "outputs": [
    {
     "name": "stdout",
     "output_type": "stream",
     "text": [
      "Fiction\n"
     ]
    }
   ],
   "source": [
    "def most_common_genre():\n",
    "    # Create a list comprehension that extracts all genres from the library's book info\n",
    "    lst = [x for v in library.values() for x in v['genres']]\n",
    "\n",
    "    # Convert the list to a set to get unique genres\n",
    "    setgenres = set(lst)\n",
    "\n",
    "    # Initialize a counter to track the highest count of any genre\n",
    "    counter = -1  # Set counter to -1 (we'll compare against this value)\n",
    "    \n",
    "    # Initialize most_common to store the genre with the highest count\n",
    "    most_common = None\n",
    "\n",
    "    # Loop through each unique genre in the set\n",
    "    for s in setgenres:\n",
    "        # Count how many times the genre appears in the original list\n",
    "        if lst.count(s) > counter:  # If the count of this genre is greater than the current highest count\n",
    "            counter = lst.count(s)  # Update the counter to this genre's count\n",
    "            most_common = s         # Set this genre as the most common one\n",
    "\n",
    "    return most_common  # Return the most common genre\n",
    "\n",
    "# Call the function and print the result\n",
    "print(most_common_genre())\n"
   ]
  },
  {
   "cell_type": "markdown",
   "metadata": {
    "id": "IuVLtf7dQaUW"
   },
   "source": [
    "#### Q6: Create 2 functions to search for books by the title and the author from your library and test it."
   ]
  },
  {
   "cell_type": "code",
   "execution_count": 51,
   "metadata": {
    "id": "7LnwRJLCUe3p"
   },
   "outputs": [
    {
     "name": "stdin",
     "output_type": "stream",
     "text": [
      "Enter book title:  gone\n"
     ]
    },
    {
     "name": "stdout",
     "output_type": "stream",
     "text": [
      "Book Title: Gone with the Wind Author: Margaret Mitchell Year: 1936 Genres: ['Historical Fiction', 'Romance']\n"
     ]
    }
   ],
   "source": [
    "# Prompt the user to input a book title\n",
    "userinput = input(\"Enter book title: \")\n",
    "\n",
    "# Define a function to search for a book by title in the library\n",
    "def search_bytitle():\n",
    "    # Loop through each book's information in the library (values of the dictionary)\n",
    "    for v in library.values():\n",
    "        \n",
    "        # Check if the user's input (converted to lowercase) is a substring of the book's title (also converted to lowercase for case-insensitive comparison)\n",
    "        if userinput.lower() in v['title'].lower():\n",
    "            \n",
    "            # If a match is found, print the book's details: title, author, year, and genres\n",
    "            print('Book Title: {} Author: {} Year: {} Genres: {}'.format(v['title'], v['author'], v['year'], v['genres']))\n",
    "            \n",
    "            # Exit the loop after finding the first match\n",
    "            break\n",
    "\n",
    "# Call the function to search for the book based on the user's input\n",
    "search_bytitle()\n"
   ]
  },
  {
   "cell_type": "code",
   "execution_count": 57,
   "metadata": {},
   "outputs": [
    {
     "name": "stdin",
     "output_type": "stream",
     "text": [
      "Enter author name:  Paulo Coelho\n"
     ]
    },
    {
     "name": "stdout",
     "output_type": "stream",
     "text": [
      "Book Title: The Alchemist Author: Paulo Coelho Year: 1988 Genres: ['Fiction', 'Inspirational']\n"
     ]
    }
   ],
   "source": [
    "# Prompt the user to input an author name (string)\n",
    "userinput = input(\"Enter author name: \")\n",
    "\n",
    "# Define the function 'search_byauthor' to search for books based on the author input\n",
    "def search_byauthor():\n",
    "    # Iterate over the details of each book in the 'library' dictionary\n",
    "    for v in library.values():\n",
    "        \n",
    "        # Check if the user input (author name) is a substring of the current book's author\n",
    "        if userinput in v['author']:\n",
    "            \n",
    "            # If a match is found, print the book details (title, author, year, genres)\n",
    "            print('Book Title: {} Author: {} Year: {} Genres: {}'.format(v['title'], v['author'], v['year'], v['genres']))\n",
    "            \n",
    "            # Stop the loop after printing the first match\n",
    "            break\n",
    "\n",
    "# Call the 'search_byauthor' function to search for a book by author\n",
    "search_byauthor()\n"
   ]
  },
  {
   "cell_type": "markdown",
   "metadata": {
    "id": "fAu2ozKBQzJu"
   },
   "source": [
    "#### Q7: Create 2 functions to sort the books by the title and the year from your library and test it."
   ]
  },
  {
   "cell_type": "code",
   "execution_count": 61,
   "metadata": {
    "id": "X4PyuHTMUgHl"
   },
   "outputs": [
    {
     "name": "stdout",
     "output_type": "stream",
     "text": [
      "Sorted list by title\n",
      "[{'title': '1984', 'author': 'George Orwell', 'year': 1949, 'genres': [' Fiction', 'Dystopian']}, {'title': 'Gone with the Wind', 'author': 'Margaret Mitchell', 'year': 1936, 'genres': ['Historical Fiction', 'Romance']}, {'title': 'Pride and Prejudice', 'author': 'Jane Austen', 'year': 1813, 'genres': ['Fiction', 'Romance', 'Classics']}, {'title': 'Sapiens: A Brief History of Humankind', 'author': 'Yuval Noah Harari', 'year': 2011, 'genres': ['Nonfiction', 'History', 'Science']}, {'title': 'The Alchemist', 'author': 'Paulo Coelho', 'year': 1988, 'genres': ['Fiction', 'Inspirational']}, {'title': 'The Catcher in the Rye', 'author': 'J.D. Salinger', 'year': 1951, 'genres': ['Fiction', 'Classics']}, {'title': 'The Chronicles of Narnia', 'author': 'C.S. Lewis', 'year': 1950, 'genres': ['Fantasy', \"Children's Literature\"]}, {'title': 'The Da Vinci Code', 'author': 'Dan Brown', 'year': 2003, 'genres': ['Mystery, Thriller']}, {'title': 'The Girl with the Dragon Tattoo', 'author': 'Stieg Larsson', 'year': 2005, 'genres': ['Mystery', 'Thriller']}, {'title': 'The Great Gatsby', 'author': 'F. Scott Fitzgerald', 'year': 1925, 'genres': ['Fiction', 'Classics']}, {'title': 'The Hobbit', 'author': 'J.R.R. Tolkien', 'year': 1937, 'genres': ['Fantasy', 'Adventure']}, {'title': 'The Hunger Games', 'author': 'Suzanne Collins', 'year': 2008, 'genres': ['Science Fiction', 'Dystopian', 'Young Adult']}, {'title': 'The Road', 'author': 'Cormac McCarthy', 'year': 2006, 'genres': ['Fiction', 'Post-Apocalyptic']}, {'title': 'To Kill a Mockingbird', 'author': 'Harper Lee', 'year': 1960, 'genres': ['Fiction', 'Classics']}]\n",
      "Sorted list by year\n",
      "[{'title': 'Pride and Prejudice', 'author': 'Jane Austen', 'year': 1813, 'genres': ['Fiction', 'Romance', 'Classics']}, {'title': 'The Great Gatsby', 'author': 'F. Scott Fitzgerald', 'year': 1925, 'genres': ['Fiction', 'Classics']}, {'title': 'Gone with the Wind', 'author': 'Margaret Mitchell', 'year': 1936, 'genres': ['Historical Fiction', 'Romance']}, {'title': 'The Hobbit', 'author': 'J.R.R. Tolkien', 'year': 1937, 'genres': ['Fantasy', 'Adventure']}, {'title': '1984', 'author': 'George Orwell', 'year': 1949, 'genres': [' Fiction', 'Dystopian']}, {'title': 'The Chronicles of Narnia', 'author': 'C.S. Lewis', 'year': 1950, 'genres': ['Fantasy', \"Children's Literature\"]}, {'title': 'The Catcher in the Rye', 'author': 'J.D. Salinger', 'year': 1951, 'genres': ['Fiction', 'Classics']}, {'title': 'To Kill a Mockingbird', 'author': 'Harper Lee', 'year': 1960, 'genres': ['Fiction', 'Classics']}, {'title': 'The Alchemist', 'author': 'Paulo Coelho', 'year': 1988, 'genres': ['Fiction', 'Inspirational']}, {'title': 'The Da Vinci Code', 'author': 'Dan Brown', 'year': 2003, 'genres': ['Mystery, Thriller']}, {'title': 'The Girl with the Dragon Tattoo', 'author': 'Stieg Larsson', 'year': 2005, 'genres': ['Mystery', 'Thriller']}, {'title': 'The Road', 'author': 'Cormac McCarthy', 'year': 2006, 'genres': ['Fiction', 'Post-Apocalyptic']}, {'title': 'The Hunger Games', 'author': 'Suzanne Collins', 'year': 2008, 'genres': ['Science Fiction', 'Dystopian', 'Young Adult']}, {'title': 'Sapiens: A Brief History of Humankind', 'author': 'Yuval Noah Harari', 'year': 2011, 'genres': ['Nonfiction', 'History', 'Science']}]\n"
     ]
    }
   ],
   "source": [
    "# Define the function 'sort_bybooks' to sort the books by their titles\n",
    "def sort_bybooks():\n",
    "    # Define a lambda function that extracts the 'title' from each book (represented as a dictionary)\n",
    "    fun_title = lambda lst: lst['title']\n",
    "    \n",
    "    # Use the sorted() function to sort the books based on their titles using the lambda function as the key\n",
    "    return sorted(library.values(), key=fun_title)\n",
    "\n",
    "# Print a header to indicate the sorted list by title\n",
    "print('Sorted list by title')\n",
    "\n",
    "# Call the 'sort_bybooks' function and print the sorted list of books by title\n",
    "print(sort_bybooks())\n",
    "\n",
    "# Define the function 'sort_byyear' to sort the books by their publication years\n",
    "def sort_byyear():\n",
    "    # Define a lambda function that extracts the 'year' from each book\n",
    "    fun_year = lambda lst: lst['year']\n",
    "    \n",
    "    # Use the sorted() function to sort the books based on their years using the lambda function as the key\n",
    "    return sorted(library.values(), key=fun_year)\n",
    "\n",
    "# Print a header to indicate the sorted list by year\n",
    "print(\"Sorted list by year\")\n",
    "\n",
    "# Call the 'sort_byyear' function and print the sorted list of books by year\n",
    "print(sort_byyear())\n"
   ]
  },
  {
   "cell_type": "markdown",
   "metadata": {
    "id": "KiaFO8rdiv4u"
   },
   "source": [
    "#### Q8: Create a function to bulk update genres of books using list comprehension. and test it."
   ]
  },
  {
   "cell_type": "code",
   "execution_count": 65,
   "metadata": {
    "id": "AbvXyE96UhVt"
   },
   "outputs": [
    {
     "name": "stdin",
     "output_type": "stream",
     "text": [
      "Please enter old genre:  fiction\n",
      "Please enter new genre:  bob\n"
     ]
    }
   ],
   "source": [
    "# Define the function 'update_genres' to update the genre of books in the library\n",
    "def update_genres(old, new):\n",
    "    # Iterate over each book's details stored in the 'library' dictionary values\n",
    "    for value in library.values():\n",
    "        \n",
    "        # Use list comprehension to create a new list of genres for the current book\n",
    "        # Replace the genre with 'new' if it matches 'old' (case insensitive), otherwise keep the original genre\n",
    "        value['genres'] = [new if gnrs.lower() == old.lower() else gnrs for gnrs in value['genres']]\n",
    "\n",
    "# Prompt the user to input the old genre they want to replace\n",
    "old_genres = input('Please enter old genre: ')\n",
    "\n",
    "# Prompt the user to input the new genre they want to replace it with\n",
    "new_genres = input('Please enter new genre: ')\n",
    "\n",
    "# Call the 'update_genres' function to update the genres in the library\n",
    "update_genres(old_genres, new_genres)\n"
   ]
  },
  {
   "cell_type": "code",
   "execution_count": 67,
   "metadata": {},
   "outputs": [
    {
     "name": "stdout",
     "output_type": "stream",
     "text": [
      "2 {'title': 'To Kill a Mockingbird', 'author': 'Harper Lee', 'year': 1960, 'genres': ['bob', 'Classics']}\n",
      "3 {'title': 'The Great Gatsby', 'author': 'F. Scott Fitzgerald', 'year': 1925, 'genres': ['bob', 'Classics']}\n",
      "4 {'title': '1984', 'author': 'George Orwell', 'year': 1949, 'genres': [' Fiction', 'Dystopian']}\n",
      "5 {'title': 'The Catcher in the Rye', 'author': 'J.D. Salinger', 'year': 1951, 'genres': ['bob', 'Classics']}\n",
      "6 {'title': 'Pride and Prejudice', 'author': 'Jane Austen', 'year': 1813, 'genres': ['bob', 'Romance', 'Classics']}\n",
      "7 {'title': 'The Hobbit', 'author': 'J.R.R. Tolkien', 'year': 1937, 'genres': ['Fantasy', 'Adventure']}\n",
      "8 {'title': 'The Hunger Games', 'author': 'Suzanne Collins', 'year': 2008, 'genres': ['Science Fiction', 'Dystopian', 'Young Adult']}\n",
      "9 {'title': 'The Da Vinci Code', 'author': 'Dan Brown', 'year': 2003, 'genres': ['Mystery, Thriller']}\n",
      "10 {'title': 'The Chronicles of Narnia', 'author': 'C.S. Lewis', 'year': 1950, 'genres': ['Fantasy', \"Children's Literature\"]}\n",
      "11 {'title': 'Gone with the Wind', 'author': 'Margaret Mitchell', 'year': 1936, 'genres': ['Historical Fiction', 'Romance']}\n",
      "12 {'title': 'Sapiens: A Brief History of Humankind', 'author': 'Yuval Noah Harari', 'year': 2011, 'genres': ['Nonfiction', 'History', 'Science']}\n",
      "13 {'title': 'The Road', 'author': 'Cormac McCarthy', 'year': 2006, 'genres': ['bob', 'Post-Apocalyptic']}\n",
      "14 {'title': 'The Girl with the Dragon Tattoo', 'author': 'Stieg Larsson', 'year': 2005, 'genres': ['Mystery', 'Thriller']}\n",
      "15 {'title': 'The Alchemist', 'author': 'Paulo Coelho', 'year': 1988, 'genres': ['bob', 'Inspirational']}\n"
     ]
    }
   ],
   "source": [
    "for k,v in library.items():\n",
    "  print(k,v)"
   ]
  },
  {
   "cell_type": "markdown",
   "metadata": {
    "id": "ZWkmOUNgi6V_"
   },
   "source": [
    "#### Q9: Implement a function to generate a report summarizing the library's statistics, including the total number of books, the number of books by each author, the number of books in each genre, and the oldest and newest books. and test it."
   ]
  },
  {
   "cell_type": "code",
   "execution_count": 69,
   "metadata": {
    "id": "Okjlb9pTUloe"
   },
   "outputs": [
    {
     "name": "stdout",
     "output_type": "stream",
     "text": [
      "total number of books in library: 14\n",
      "\n",
      "The number of books by each author:\n",
      "Author Name: Harper Lee Number of books: 1\n",
      "Author Name: C.S. Lewis Number of books: 1\n",
      "Author Name: J.D. Salinger Number of books: 1\n",
      "Author Name: Margaret Mitchell Number of books: 1\n",
      "Author Name: George Orwell Number of books: 1\n",
      "Author Name: Paulo Coelho Number of books: 1\n",
      "Author Name: Jane Austen Number of books: 1\n",
      "Author Name: J.R.R. Tolkien Number of books: 1\n",
      "Author Name: Yuval Noah Harari Number of books: 1\n",
      "Author Name: Stieg Larsson Number of books: 1\n",
      "Author Name: Suzanne Collins Number of books: 1\n",
      "Author Name: Cormac McCarthy Number of books: 1\n",
      "Author Name: F. Scott Fitzgerald Number of books: 1\n",
      "Author Name: Dan Brown Number of books: 1\n",
      "\n",
      "The number of books for each genre:\n",
      "Genre: Mystery, Thriller Number of books: 1\n",
      "Genre: Nonfiction Number of books: 1\n",
      "Genre: Post-Apocalyptic Number of books: 1\n",
      "Genre: Inspirational Number of books: 1\n",
      "Genre: Thriller Number of books: 1\n",
      "Genre: Classics Number of books: 4\n",
      "Genre: Romance Number of books: 2\n",
      "Genre: History Number of books: 1\n",
      "Genre: Fantasy Number of books: 2\n",
      "Genre: Children's Literature Number of books: 1\n",
      "Genre: Science Fiction Number of books: 1\n",
      "Genre:  Fiction Number of books: 1\n",
      "Genre: bob Number of books: 6\n",
      "Genre: Historical Fiction Number of books: 1\n",
      "Genre: Young Adult Number of books: 1\n",
      "Genre: Mystery Number of books: 1\n",
      "Genre: Adventure Number of books: 1\n",
      "Genre: Dystopian Number of books: 2\n",
      "Genre: Science Number of books: 1\n",
      "\n",
      "Oldest book: Pride and Prejudice Year: 1813\n",
      "Newest book: Sapiens: A Brief History of Humankind Year: 2011\n"
     ]
    }
   ],
   "source": [
    "# Define the 'report' function to generate a report of the library\n",
    "def report():\n",
    "    # Call the 'total_books()' function (if it exists in the broader context) to display the total number of books\n",
    "    total_books()\n",
    "\n",
    "    # Create a list of authors from the library, extracting 'author' from each book's details\n",
    "    author_list = [value['author'] for value in library.values()]\n",
    "\n",
    "    # Create a list of all genres by extracting the 'genres' from each book and flattening the list\n",
    "    num_lst = [x for v in library.values() for x in v['genres']]\n",
    "\n",
    "    # Convert the author list to a set to get unique authors (to avoid duplicates)\n",
    "    author_set = set(author_list)\n",
    "\n",
    "    # Convert the genres list to a set to get unique genres\n",
    "    books_set = set(num_lst)\n",
    "\n",
    "    # Print the heading for the section of the report on books by author\n",
    "    print()\n",
    "    print(\"The number of books by each author:\")\n",
    "\n",
    "    # Loop through each unique author and count how many times they appear in the author list\n",
    "    for i in author_set:\n",
    "        print('Author Name:', i, 'Number of books:', author_list.count(i))\n",
    "\n",
    "    # Print the heading for the section of the report on books by genre\n",
    "    print()\n",
    "    print(\"The number of books for each genre:\")\n",
    "\n",
    "    # Loop through each unique genre and count how many times it appears in the genre list\n",
    "    for num in books_set:\n",
    "        print('Genre:', num, 'Number of books:', num_lst.count(num))\n",
    "\n",
    "    # Initialize variables to store the year and title of the oldest and newest books\n",
    "    old_year = 10000   # Set an arbitrarily high initial value for the oldest year\n",
    "    old_book = ''      # To store the title of the oldest book\n",
    "    new_year = -1      # Set an arbitrarily low initial value for the newest year\n",
    "    new_book = ''      # To store the title of the newest book\n",
    "\n",
    "    # Loop through each book in the library to determine the oldest and newest books\n",
    "    for v in library.values():\n",
    "        # Check if the current book's year is earlier than the current oldest year\n",
    "        if v['year'] < old_year:\n",
    "            old_year = v['year']    # Update the oldest year\n",
    "            old_book = v['title']   # Update the title of the oldest book\n",
    "\n",
    "        # Check if the current book's year is later than the current newest year\n",
    "        if v['year'] > new_year:\n",
    "            new_year = v['year']    # Update the newest year\n",
    "            new_book = v['title']   # Update the title of the newest book\n",
    "\n",
    "    # Print the oldest book and its publication year\n",
    "    print()\n",
    "    print('Oldest book:', old_book, 'Year:', old_year)\n",
    "\n",
    "    # Print the newest book and its publication year\n",
    "    print('Newest book:', new_book, 'Year:', new_year)\n",
    "\n",
    "# Call the 'report' function to display the report\n",
    "report()\n"
   ]
  },
  {
   "cell_type": "code",
   "execution_count": null,
   "metadata": {},
   "outputs": [],
   "source": []
  }
 ],
 "metadata": {
  "colab": {
   "provenance": []
  },
  "kernelspec": {
   "display_name": "Python 3 (ipykernel)",
   "language": "python",
   "name": "python3"
  },
  "language_info": {
   "codemirror_mode": {
    "name": "ipython",
    "version": 3
   },
   "file_extension": ".py",
   "mimetype": "text/x-python",
   "name": "python",
   "nbconvert_exporter": "python",
   "pygments_lexer": "ipython3",
   "version": "3.12.4"
  }
 },
 "nbformat": 4,
 "nbformat_minor": 4
}
