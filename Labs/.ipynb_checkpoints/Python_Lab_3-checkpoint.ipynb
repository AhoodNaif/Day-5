{
 "cells": [
  {
   "cell_type": "markdown",
   "metadata": {},
   "source": [
    "# Python_Lab_3\n"
   ]
  },
  {
   "cell_type": "markdown",
   "metadata": {},
   "source": [
    "### Task 1\n",
    "- Write a function named **'create_student_records'** that takes a list of tuples. Each tuple contains a student's name and their scores in three subjects. The function should return a list of dictionaries, where each dictionary represents a student with keys: name, subject1, subject2, subject3. Use list comprehension to create the list of dictionaries."
   ]
  },
  {
   "cell_type": "code",
   "execution_count": 10,
   "metadata": {},
   "outputs": [
    {
     "name": "stdout",
     "output_type": "stream",
     "text": [
      "{'name': 'ohoud', 'subject1': 100, 'subject2': 99, 'subject3': 95}\n",
      "{'name': 'asma', 'subject1': 78, 'subject2': 90, 'subject3': 80}\n",
      "{'name': 'nora', 'subject1': 92, 'subject2': 95, 'subject3': 94}\n",
      "{'name': 'mona', 'subject1': 70, 'subject2': 65, 'subject3': 72}\n"
     ]
    }
   ],
   "source": [
    "def create_student_records(student_list):\n",
    "    \n",
    "    return [{\"name\": name, \"subject1\": score1, \"subject2\": score2, \"subject3\": score3}\n",
    "        for name, score1, score2, score3 in student_list ] #return list of dictionary with four keys \n",
    "\n",
    "# Create the ist of tuples filled by values\n",
    "all_students = [\n",
    "    (\"ohoud\", 100, 99, 95),\n",
    "    (\"asma\", 78, 90, 80),\n",
    "    (\"nora\", 92, 95, 94),\n",
    "    (\"mona\", 70, 65, 72)\n",
    "]\n",
    "# call the function\n",
    "student_records = create_student_records(all_students)\n",
    "\n",
    "# Print the students records\n",
    "for i in student_records:\n",
    "    print(i)\n"
   ]
  },
  {
   "cell_type": "markdown",
   "metadata": {},
   "source": [
    "### Task 2\n",
    "- Write a function named **'filter_and_sort_students'** that takes the list of dictionaries from Question 1 and returns a sorted list of student names who have an average score of 80 or more across all subjects. Sort the names in alphabetical order."
   ]
  },
  {
   "cell_type": "code",
   "execution_count": 12,
   "metadata": {},
   "outputs": [
    {
     "name": "stdout",
     "output_type": "stream",
     "text": [
      "['asma', 'nora', 'ohoud']\n"
     ]
    }
   ],
   "source": [
    "# write your code here ^_^\n",
    "def filter_and_sort_students(students_records):\n",
    "    students_names=[ student['name']for student in student_records\n",
    "        if (student['subject1'] + student['subject2'] + student['subject3']) / 3 >= 80\n",
    "    ] #filter the list of dict \n",
    "    \n",
    "          \n",
    "    return print( sorted(students_names)) #using sorted to return a sorted list\n",
    "#calling the function\n",
    "filter_and_sort_students(student_records)"
   ]
  },
  {
   "cell_type": "markdown",
   "metadata": {},
   "source": [
    "### Task 3\n",
    "- Write a function named **'get_product_info'** that prompts the user to enter information about a product. The function should ask for the product name, product price, and product quantity. If the user enters an invalid input (e.g., a non-numeric value for the price or quantity), the function should handle the error and prompt the user to enter the value again. Return a dictionary containing the product information."
   ]
  },
  {
   "cell_type": "code",
   "execution_count": 25,
   "metadata": {},
   "outputs": [
    {
     "name": "stdin",
     "output_type": "stream",
     "text": [
      "Enter a product name?  66\n"
     ]
    },
    {
     "name": "stdout",
     "output_type": "stream",
     "text": [
      "Please enter a valid string value for the product name.\n"
     ]
    },
    {
     "name": "stdin",
     "output_type": "stream",
     "text": [
      "Enter a product name?  ohoud\n",
      "Enter product price?  546\n",
      "Enter product quantity?  gg\n"
     ]
    },
    {
     "name": "stdout",
     "output_type": "stream",
     "text": [
      "please enter a digit value \n"
     ]
    },
    {
     "name": "stdin",
     "output_type": "stream",
     "text": [
      "Enter product quantity?  65\n"
     ]
    },
    {
     "data": {
      "text/plain": [
       "{'name': 'ohoud', 'price': 546, 'quantity': 65}"
      ]
     },
     "execution_count": 25,
     "metadata": {},
     "output_type": "execute_result"
    }
   ],
   "source": [
    "# write your code here ^_^\n",
    "def get_product_info ():\n",
    "    product_info={} #define empty dictionary \n",
    "    while True: #never exist until input inserted correctly\n",
    "             product_name=input(\"Enter a product name? \")\n",
    "             if product_name.isalpha(): # check user input to match the requiered data type\n",
    "                product_info['name']=product_name # assigen the product name to the key name in dict\n",
    "                break\n",
    "             else :  # handel the error if exist \n",
    "                 print(\"Please enter a valid string value for the product name.\")\n",
    "\n",
    "            \n",
    "    while True: #never exist until input inserted correctly\n",
    "\n",
    "    \n",
    "            try: # check user input to match the requiered data type\n",
    "                product_price=int(input(\"Enter product price? \"))\n",
    "                product_info['price']=product_price \n",
    "                break\n",
    "            except ValueError: # handel the error if exist \n",
    "                print(\"please enter a digit value \")\n",
    "    while True: #never exist until input inserted correctly\n",
    "            try: # check user input to match the requiered data type\n",
    "                 product_quantity=int(input(\"Enter product quantity? \"))\n",
    "                 product_info['quantity']=product_quantity\n",
    "                 break\n",
    "            except ValueError:  # handel the error if exist \n",
    "                print(\"please enter a digit value \")\n",
    "    return product_info # return  a dictionary of three keys and thier values\n",
    "#calling the function\n",
    "get_product_info()\n",
    "    "
   ]
  },
  {
   "cell_type": "markdown",
   "metadata": {},
   "source": [
    "### Task 4\n",
    "- Write a function named **'get_even_numbers'** that takes a list of integers and returns a list of even numbers using list comprehension."
   ]
  },
  {
   "cell_type": "code",
   "execution_count": 29,
   "metadata": {},
   "outputs": [
    {
     "data": {
      "text/plain": [
       "[2, 4, 6, 8, 10]"
      ]
     },
     "execution_count": 29,
     "metadata": {},
     "output_type": "execute_result"
    }
   ],
   "source": [
    "###### write your code here ^_^\n",
    "def get_even_numbers (numbers):\n",
    "    return [ i for i in numbers if (i % 2) == 0] #apply list comprehensive to return subset of list that define only even numbers\n",
    "#list of integers\n",
    "li=[1,2,3,4,5,6,7,8,9,10]\n",
    "#calling the function\n",
    "get_even_numbers(li)"
   ]
  },
  {
   "cell_type": "markdown",
   "metadata": {},
   "source": [
    "### Task 5\n",
    "- Write a function named **'pair_elements'** that takes two lists of equal length as parameters and returns a list of tuples, where each tuple contains corresponding elements from the two lists. Use the zip function to achieve this."
   ]
  },
  {
   "cell_type": "code",
   "execution_count": 31,
   "metadata": {},
   "outputs": [
    {
     "data": {
      "text/plain": [
       "[(1, 6), (2, 7), (3, 8), (4, 9), (5, 10)]"
      ]
     },
     "execution_count": 31,
     "metadata": {},
     "output_type": "execute_result"
    }
   ],
   "source": [
    "# write your code here ^_^\n",
    "def pair_elements(ls1, ls2):\n",
    "    # Check if both lists have the same length\n",
    "    if len(ls1) != len(ls2):\n",
    "        raise ValueError(\"The lists must be of equal length.\")\n",
    "    \n",
    "    # Use the zip function to pair corresponding elements from both lists\n",
    "    return list(zip(ls1, ls2))\n",
    "#two given lists of equal size   \n",
    "list1=[1,2,3,4,5]\n",
    "list2=[6,7,8,9,10]\n",
    "#calling the function\n",
    "pair_elements(list1,list2)"
   ]
  },
  {
   "cell_type": "markdown",
   "metadata": {},
   "source": [
    "### Task 6\n",
    "- Write a function named **'square_dict_lambda'** that takes a list of integers and returns a dictionary where the keys are the integers and the values are their squares. Use a lambda function within a dictionary comprehension to achieve this."
   ]
  },
  {
   "cell_type": "code",
   "execution_count": 33,
   "metadata": {},
   "outputs": [
    {
     "data": {
      "text/plain": [
       "{1: 1, 2: 4, 3: 9, 4: 16, 5: 25}"
      ]
     },
     "execution_count": 33,
     "metadata": {},
     "output_type": "execute_result"
    }
   ],
   "source": [
    "# write your code here ^_^\n",
    "def square_dict_lambda(lst): \n",
    "    return {x: (lambda x:x**2)(x) for x in lst } #lambda go across the given list and return a dictionary of values and their squares\n",
    "#list of integers\n",
    "numbers=[1,2,3,4,5]\n",
    "#call the function\n",
    "square_dict_lambda(numbers)"
   ]
  }
 ],
 "metadata": {
  "kernelspec": {
   "display_name": "Python 3 (ipykernel)",
   "language": "python",
   "name": "python3"
  },
  "language_info": {
   "codemirror_mode": {
    "name": "ipython",
    "version": 3
   },
   "file_extension": ".py",
   "mimetype": "text/x-python",
   "name": "python",
   "nbconvert_exporter": "python",
   "pygments_lexer": "ipython3",
   "version": "3.12.4"
  }
 },
 "nbformat": 4,
 "nbformat_minor": 4
}
